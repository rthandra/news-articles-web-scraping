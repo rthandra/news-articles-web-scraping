{
 "cells": [
  {
   "cell_type": "markdown",
   "id": "51c830b5",
   "metadata": {},
   "source": [
    "                 INSTALLING PACKAGES\n"
   ]
  },
  {
   "cell_type": "code",
   "execution_count": 1,
   "id": "fba1fe92",
   "metadata": {},
   "outputs": [
    {
     "name": "stdout",
     "output_type": "stream",
     "text": [
      "Requirement already satisfied: beautifulsoup4 in ./opt/anaconda3/lib/python3.9/site-packages (4.11.1)\r\n",
      "Requirement already satisfied: soupsieve>1.2 in ./opt/anaconda3/lib/python3.9/site-packages (from beautifulsoup4) (2.3.2.post1)\r\n"
     ]
    }
   ],
   "source": [
    "! pip install beautifulsoup4 #important for parsing HTML and XML document or finding website into python ID\n"
   ]
  },
  {
   "cell_type": "code",
   "execution_count": 2,
   "id": "7ca3162f",
   "metadata": {},
   "outputs": [
    {
     "name": "stdout",
     "output_type": "stream",
     "text": [
      "Requirement already satisfied: requests in ./opt/anaconda3/lib/python3.9/site-packages (2.28.1)\r\n",
      "Requirement already satisfied: urllib3<1.27,>=1.21.1 in ./opt/anaconda3/lib/python3.9/site-packages (from requests) (1.26.12)\r\n",
      "Requirement already satisfied: idna<4,>=2.5 in ./opt/anaconda3/lib/python3.9/site-packages (from requests) (3.4)\r\n",
      "Requirement already satisfied: charset-normalizer<3,>=2 in ./opt/anaconda3/lib/python3.9/site-packages (from requests) (2.0.4)\r\n",
      "Requirement already satisfied: certifi>=2017.4.17 in ./opt/anaconda3/lib/python3.9/site-packages (from requests) (2022.9.24)\r\n"
     ]
    }
   ],
   "source": [
    "! pip install requests #gets request from the server, downloading the html content"
   ]
  },
  {
   "cell_type": "markdown",
   "id": "44e99188",
   "metadata": {},
   "source": [
    "                   INSTALLING LIBRARIES"
   ]
  },
  {
   "cell_type": "code",
   "execution_count": 3,
   "id": "9e50d136",
   "metadata": {},
   "outputs": [],
   "source": [
    "import sys\n",
    "import time\n",
    "from bs4 import BeautifulSoup\n",
    "import requests\n",
    "import pandas as pd"
   ]
  },
  {
   "cell_type": "markdown",
   "id": "5097cf2f",
   "metadata": {},
   "source": [
    "                Extracting details from the web-page"
   ]
  },
  {
   "cell_type": "code",
   "execution_count": 15,
   "id": "8a71ef8f",
   "metadata": {},
   "outputs": [
    {
     "name": "stdout",
     "output_type": "stream",
     "text": [
      "processing page : 1\n",
      "https://www.politifact.com/factchecks/list/?page=1\n",
      "30\n"
     ]
    },
    {
     "data": {
      "text/html": [
       "<div>\n",
       "<style scoped>\n",
       "    .dataframe tbody tr th:only-of-type {\n",
       "        vertical-align: middle;\n",
       "    }\n",
       "\n",
       "    .dataframe tbody tr th {\n",
       "        vertical-align: top;\n",
       "    }\n",
       "\n",
       "    .dataframe thead th {\n",
       "        text-align: right;\n",
       "    }\n",
       "</style>\n",
       "<table border=\"1\" class=\"dataframe\">\n",
       "  <thead>\n",
       "    <tr style=\"text-align: right;\">\n",
       "      <th></th>\n",
       "      <th>Statement</th>\n",
       "      <th>Link</th>\n",
       "      <th>Date</th>\n",
       "      <th>Source</th>\n",
       "      <th>Label</th>\n",
       "    </tr>\n",
       "  </thead>\n",
       "  <tbody>\n",
       "    <tr>\n",
       "      <th>0</th>\n",
       "      <td>The 2017 Unite the Right rally in Charlottesvi...</td>\n",
       "      <td>https://www.politifact.com/factchecks/2023/mar...</td>\n",
       "      <td>arch 10, 2023</td>\n",
       "      <td>Scott Adams</td>\n",
       "      <td>pants-fire</td>\n",
       "    </tr>\n",
       "    <tr>\n",
       "      <th>1</th>\n",
       "      <td>Video shows that certain drinks can “test posi...</td>\n",
       "      <td>https://www.politifact.com/factchecks/2023/mar...</td>\n",
       "      <td>arch 10, 2023</td>\n",
       "      <td>Facebook posts</td>\n",
       "      <td>false</td>\n",
       "    </tr>\n",
       "    <tr>\n",
       "      <th>2</th>\n",
       "      <td>Wake County is the only large county in North ...</td>\n",
       "      <td>https://www.politifact.com/factchecks/2023/mar...</td>\n",
       "      <td>arch 10, 2023</td>\n",
       "      <td>Erin Paré</td>\n",
       "      <td>mostly-true</td>\n",
       "    </tr>\n",
       "    <tr>\n",
       "      <th>3</th>\n",
       "      <td>The White House Visitor Center is displaying a...</td>\n",
       "      <td>https://www.politifact.com/factchecks/2023/mar...</td>\n",
       "      <td>March 9, 2023</td>\n",
       "      <td>Facebook posts</td>\n",
       "      <td>pants-fire</td>\n",
       "    </tr>\n",
       "    <tr>\n",
       "      <th>4</th>\n",
       "      <td>President Joe Biden is “in Gitmo.”</td>\n",
       "      <td>https://www.politifact.com/factchecks/2023/mar...</td>\n",
       "      <td>March 9, 2023</td>\n",
       "      <td>Facebook posts</td>\n",
       "      <td>pants-fire</td>\n",
       "    </tr>\n",
       "  </tbody>\n",
       "</table>\n",
       "</div>"
      ],
      "text/plain": [
       "                                           Statement  \\\n",
       "0  The 2017 Unite the Right rally in Charlottesvi...   \n",
       "1  Video shows that certain drinks can “test posi...   \n",
       "2  Wake County is the only large county in North ...   \n",
       "3  The White House Visitor Center is displaying a...   \n",
       "4                 President Joe Biden is “in Gitmo.”   \n",
       "\n",
       "                                                Link           Date  \\\n",
       "0  https://www.politifact.com/factchecks/2023/mar...  arch 10, 2023   \n",
       "1  https://www.politifact.com/factchecks/2023/mar...  arch 10, 2023   \n",
       "2  https://www.politifact.com/factchecks/2023/mar...  arch 10, 2023   \n",
       "3  https://www.politifact.com/factchecks/2023/mar...  March 9, 2023   \n",
       "4  https://www.politifact.com/factchecks/2023/mar...  March 9, 2023   \n",
       "\n",
       "           Source        Label  \n",
       "0     Scott Adams   pants-fire  \n",
       "1  Facebook posts        false  \n",
       "2       Erin Paré  mostly-true  \n",
       "3  Facebook posts   pants-fire  \n",
       "4  Facebook posts   pants-fire  "
      ]
     },
     "execution_count": 15,
     "metadata": {},
     "output_type": "execute_result"
    }
   ],
   "source": [
    "import urllib.request,sys,time\n",
    "from bs4 import BeautifulSoup\n",
    "import requests\n",
    "import pandas as pd\n",
    "\n",
    "pagesToGet= 1\n",
    "\n",
    "upperframe=[]  \n",
    "for page in range(1,pagesToGet+1):\n",
    "    print('processing page :', page)\n",
    "    url = 'https://www.politifact.com/factchecks/list/?page='+str(page)\n",
    "    print(url)\n",
    "    \n",
    "    #an exception might be thrown, so the code should be in a try-except block\n",
    "    try:\n",
    "        #use the browser to get the url. This is suspicious command that might blow up.\n",
    "        page=requests.get(url)                             # this might throw an exception if something goes wrong.\n",
    "    \n",
    "    except Exception as e:                                   # this describes what to do if an exception is thrown\n",
    "        error_type, error_obj, error_info = sys.exc_info()      # get the exception information\n",
    "        print ('ERROR FOR LINK:',url)                          #print the link that cause the problem\n",
    "        print (error_type, 'Line:', error_info.tb_lineno)     #print error info and line that threw the exception\n",
    "        continue                                              #ignore this page. Abandon this and go back.\n",
    "    time.sleep(2)   \n",
    "    soup=BeautifulSoup(page.text,'html.parser')\n",
    "    frame=[]\n",
    "    links=soup.find_all('li',attrs={'class':'o-listicle__item'})\n",
    "    print(len(links))\n",
    "    filename=\"NEWS.csv\"\n",
    "    f=open(filename,\"w\", encoding = 'utf-8')\n",
    "    headers=\"Statement,Link,Date, Source, Label\\n\"\n",
    "    f.write(headers)\n",
    "    \n",
    "    for j in links:\n",
    "        Statement = j.find(\"div\",attrs={'class':'m-statement__quote'}).text.strip()\n",
    "        Link = \"https://www.politifact.com\"\n",
    "        Link += j.find(\"div\",attrs={'class':'m-statement__quote'}).find('a')['href'].strip()\n",
    "        Date = j.find('div',attrs={'class':'m-statement__body'}).find('footer').text[-14:-1].strip()\n",
    "        Source = j.find('div', attrs={'class':'m-statement__meta'}).find('a').text.strip()\n",
    "        Label = j.find('div', attrs ={'class':'m-statement__content'}).find('img',attrs={'class':'c-image__original'}).get('alt').strip()\n",
    "        frame.append((Statement,Link,Date,Source,Label))\n",
    "        f.write(Statement.replace(\",\",\"^\")+\",\"+Link+\",\"+Date.replace(\",\",\"^\")+\",\"+Source.replace(\",\",\"^\")+\",\"+Label.replace(\",\",\"^\")+\"\\n\")\n",
    "    upperframe.extend(frame)\n",
    "f.close()\n",
    "data=pd.DataFrame(upperframe, columns=['Statement','Link','Date','Source','Label'])\n",
    "data.head()\n",
    "\n",
    "    \n",
    "        \n",
    "        \n",
    "        \n",
    "        \n",
    "        \n",
    "        \n",
    "        \n",
    "        \n",
    "        \n",
    "        \n",
    "        \n",
    "        \n",
    "        "
   ]
  },
  {
   "cell_type": "code",
   "execution_count": 16,
   "id": "b62bfc03",
   "metadata": {},
   "outputs": [
    {
     "data": {
      "text/html": [
       "<div>\n",
       "<style scoped>\n",
       "    .dataframe tbody tr th:only-of-type {\n",
       "        vertical-align: middle;\n",
       "    }\n",
       "\n",
       "    .dataframe tbody tr th {\n",
       "        vertical-align: top;\n",
       "    }\n",
       "\n",
       "    .dataframe thead th {\n",
       "        text-align: right;\n",
       "    }\n",
       "</style>\n",
       "<table border=\"1\" class=\"dataframe\">\n",
       "  <thead>\n",
       "    <tr style=\"text-align: right;\">\n",
       "      <th></th>\n",
       "      <th>Statement</th>\n",
       "      <th>Link</th>\n",
       "      <th>Date</th>\n",
       "      <th>Source</th>\n",
       "      <th>Label</th>\n",
       "    </tr>\n",
       "  </thead>\n",
       "  <tbody>\n",
       "    <tr>\n",
       "      <th>0</th>\n",
       "      <td>The 2017 Unite the Right rally in Charlottesvi...</td>\n",
       "      <td>https://www.politifact.com/factchecks/2023/mar...</td>\n",
       "      <td>arch 10, 2023</td>\n",
       "      <td>Scott Adams</td>\n",
       "      <td>pants-fire</td>\n",
       "    </tr>\n",
       "    <tr>\n",
       "      <th>1</th>\n",
       "      <td>Video shows that certain drinks can “test posi...</td>\n",
       "      <td>https://www.politifact.com/factchecks/2023/mar...</td>\n",
       "      <td>arch 10, 2023</td>\n",
       "      <td>Facebook posts</td>\n",
       "      <td>false</td>\n",
       "    </tr>\n",
       "    <tr>\n",
       "      <th>2</th>\n",
       "      <td>Wake County is the only large county in North ...</td>\n",
       "      <td>https://www.politifact.com/factchecks/2023/mar...</td>\n",
       "      <td>arch 10, 2023</td>\n",
       "      <td>Erin Paré</td>\n",
       "      <td>mostly-true</td>\n",
       "    </tr>\n",
       "    <tr>\n",
       "      <th>3</th>\n",
       "      <td>The White House Visitor Center is displaying a...</td>\n",
       "      <td>https://www.politifact.com/factchecks/2023/mar...</td>\n",
       "      <td>March 9, 2023</td>\n",
       "      <td>Facebook posts</td>\n",
       "      <td>pants-fire</td>\n",
       "    </tr>\n",
       "    <tr>\n",
       "      <th>4</th>\n",
       "      <td>President Joe Biden is “in Gitmo.”</td>\n",
       "      <td>https://www.politifact.com/factchecks/2023/mar...</td>\n",
       "      <td>March 9, 2023</td>\n",
       "      <td>Facebook posts</td>\n",
       "      <td>pants-fire</td>\n",
       "    </tr>\n",
       "  </tbody>\n",
       "</table>\n",
       "</div>"
      ],
      "text/plain": [
       "                                           Statement  \\\n",
       "0  The 2017 Unite the Right rally in Charlottesvi...   \n",
       "1  Video shows that certain drinks can “test posi...   \n",
       "2  Wake County is the only large county in North ...   \n",
       "3  The White House Visitor Center is displaying a...   \n",
       "4                 President Joe Biden is “in Gitmo.”   \n",
       "\n",
       "                                                Link           Date  \\\n",
       "0  https://www.politifact.com/factchecks/2023/mar...  arch 10, 2023   \n",
       "1  https://www.politifact.com/factchecks/2023/mar...  arch 10, 2023   \n",
       "2  https://www.politifact.com/factchecks/2023/mar...  arch 10, 2023   \n",
       "3  https://www.politifact.com/factchecks/2023/mar...  March 9, 2023   \n",
       "4  https://www.politifact.com/factchecks/2023/mar...  March 9, 2023   \n",
       "\n",
       "           Source        Label  \n",
       "0     Scott Adams   pants-fire  \n",
       "1  Facebook posts        false  \n",
       "2       Erin Paré  mostly-true  \n",
       "3  Facebook posts   pants-fire  \n",
       "4  Facebook posts   pants-fire  "
      ]
     },
     "execution_count": 16,
     "metadata": {},
     "output_type": "execute_result"
    }
   ],
   "source": [
    "data.to_csv('NEWS.csv',index=False,encoding='utf-8')\n",
    "df=pd.read_csv('NEWS.csv',encoding='utf-8')\n",
    "df.head()"
   ]
  },
  {
   "cell_type": "code",
   "execution_count": null,
   "id": "61acb257",
   "metadata": {},
   "outputs": [],
   "source": []
  },
  {
   "cell_type": "code",
   "execution_count": null,
   "id": "cb0e77d9",
   "metadata": {},
   "outputs": [],
   "source": []
  },
  {
   "cell_type": "code",
   "execution_count": null,
   "id": "b28264b9",
   "metadata": {},
   "outputs": [],
   "source": []
  },
  {
   "cell_type": "code",
   "execution_count": null,
   "id": "a4e0c652",
   "metadata": {},
   "outputs": [],
   "source": []
  }
 ],
 "metadata": {
  "kernelspec": {
   "display_name": "Python 3 (ipykernel)",
   "language": "python",
   "name": "python3"
  },
  "language_info": {
   "codemirror_mode": {
    "name": "ipython",
    "version": 3
   },
   "file_extension": ".py",
   "mimetype": "text/x-python",
   "name": "python",
   "nbconvert_exporter": "python",
   "pygments_lexer": "ipython3",
   "version": "3.9.12"
  }
 },
 "nbformat": 4,
 "nbformat_minor": 5
}
